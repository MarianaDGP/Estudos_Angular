{
  "nbformat": 4,
  "nbformat_minor": 0,
  "metadata": {
    "colab": {
      "provenance": [],
      "authorship_tag": "ABX9TyOyrR28cC5PXPgCzmCysxZq",
      "include_colab_link": true
    },
    "kernelspec": {
      "name": "python3",
      "display_name": "Python 3"
    },
    "language_info": {
      "name": "python"
    }
  },
  "cells": [
    {
      "cell_type": "markdown",
      "metadata": {
        "id": "view-in-github",
        "colab_type": "text"
      },
      "source": [
        "<a href=\"https://colab.research.google.com/github/MarianaDGP/Estudos_Angular/blob/main/SAT.ipynb\" target=\"_parent\"><img src=\"https://colab.research.google.com/assets/colab-badge.svg\" alt=\"Open In Colab\"/></a>"
      ]
    },
    {
      "cell_type": "code",
      "source": [
        "#1: Importação das bibliotecas e leitura da notícia\n",
        "#2: Tokenização e remoção de stopwords\n",
        "\n",
        "# Instalar o spaCy e o modelo para português\n",
        "#!pip install spacy\n",
        "#!python -m spacy download pt_core_news_sm\n",
        "\n",
        "# Importar bibliotecas\n",
        "import spacy\n",
        "from string import punctuation\n",
        "\n",
        "from urllib.request import Request, urlopen\n",
        "from bs4 import BeautifulSoup\n",
        "\n",
        "# Carregar o modelo de linguagem para português\n",
        "nlp = spacy.load(\"pt_core_news_sm\")\n",
        "\n",
        "# URL da notícia\n",
        "#url = 'https://delas.ig.com.br/2020-01-23/nao-e-mito-o-estresse-pode-ser-a-causa-dos-seus-cabelos-brancos.html'\n",
        "url = 'https://delas.ig.com.br/2020-01-23/nao-e-mito-o-estresse-pode-ser-a-causa-dos-seus-cabelos-brancos.html'\n",
        "\n",
        "# Requisição à página\n",
        "req = Request(url, headers={'User-Agent': 'Mozilla/5.0'})\n",
        "pagina = urlopen(req).read().decode('utf-8', 'ignore')\n",
        "\n",
        "# Parse do HTML com BeautifulSoup\n",
        "soup = BeautifulSoup(pagina, \"lxml\")\n",
        "texto = soup.find(id=\"noticia\").text\n",
        "\n",
        "#print(texto)\n",
        "\n",
        "# Processar o texto com spaCy\n",
        "doc = nlp(texto)\n",
        "\n",
        "# Tokenização de sentenças\n",
        "sentencas = [sent.text for sent in doc.sents]\n",
        "\n",
        "# Tokenização de palavras e remoção de stopwords e pontuações\n",
        "palavras_sem_stopwords = [token.text for token in doc if not token.is_stop and not token.is_punct]\n",
        "\n",
        "print(\"Sentenças tokenizadas:\", sentencas)\n",
        "print(\"Palavras sem stopwords:\", palavras_sem_stopwords)\n",
        "\n",
        "#3: Criação da distribuição de frequência\n",
        "\n",
        "from nltk.probability import FreqDist\n",
        "\n",
        "# Criação da distribuição de frequência das palavras\n",
        "frequencia = FreqDist(palavras_sem_stopwords)\n",
        "\n",
        "print(frequencia.most_common(10))  # Mostra as 10 palavras mais comuns\n",
        "\n",
        "#4: Pontuação das sentenças\n",
        "\n",
        "from collections import defaultdict\n",
        "from heapq import nlargest\n",
        "\n",
        "# Criação da distribuição de frequência das palavras\n",
        "frequencia = defaultdict(int)\n",
        "for palavra in palavras_sem_stopwords:\n",
        "    frequencia[palavra] += 1\n",
        "\n",
        "# Criação de um dicionário para armazenar a pontuação das sentenças\n",
        "sentencas_importantes = defaultdict(int)\n",
        "\n",
        "# Loop para pontuar cada sentença com base nas palavras mais frequentes\n",
        "for i, sentenca in enumerate(sentencas):\n",
        "    # Tokeniza a sentença com spaCy\n",
        "    doc_sentenca = nlp(sentenca)\n",
        "    for token in doc_sentenca:\n",
        "        if token.text.lower() in frequencia:\n",
        "            sentencas_importantes[i] += frequencia[token.text.lower()]\n",
        "\n",
        "# Seleciona as 3 sentenças mais importantes\n",
        "num_sentencas = 3\n",
        "idx_sentencas_importantes = nlargest(num_sentencas, sentencas_importantes, key=sentencas_importantes.get)\n",
        "\n",
        "# Exibe as sentenças selecionadas\n",
        "print(\"\\nResumo:\")\n",
        "for i in sorted(idx_sentencas_importantes):\n",
        "    print(sentencas[i])"
      ],
      "metadata": {
        "colab": {
          "base_uri": "https://localhost:8080/"
        },
        "id": "lxB-4I55oyhh",
        "outputId": "ce5d1453-142a-4a7b-c9fc-c1bee8eb9c39"
      },
      "execution_count": 39,
      "outputs": [
        {
          "output_type": "stream",
          "name": "stdout",
          "text": [
            "Sentenças tokenizadas: ['\\n\\n\\n\\n', 'Por muito tempo, pensava-se que essa era apenas uma daquelas histórias, meio “lenda urbana”.', 'Mas é real: o                       estresse\\n pode deixar seu cabelo branco – ou grisalho.', 'E uma vez que ele muda de cor, nunca mais pode voltar, dizem os cientistas.\\n\\n', 'Leia mais:\\xa0Guia dos cabelos brancos: 3 dicas essenciais para cuidar dos fios grisalhos\\n\\nPor que o estresse pode deixar seu cabelo branco?\\n  \\n\\n\\n ', 'shutterstock \\n', 'A causa dos cabelos brancos, de acordo com um estudo da Universidade de Harvard, é a noradrenalina, liberada quando as pessoas estão estressadas\\n\\n\\n\\n\\n\\n\\n', 'Segundo o                       Daily Mail\\n, um estudo da Universidade de Harvard em ratos descobriu que o culpado dos fios grisalhos era a                       noradrenalina\\n, um hormônio liberado quando o corpo entra no modo de “luta ou fuga”.', 'Sob imenso estresse, a noradrenalina é liberada na corrente sanguínea, onde aumenta a freqüência cardíaca e prepara o corpo para reagir a uma ameaça.\\n', 'Mas essa reação parece danificar as células-tronco de melanócitos (CTMs), células da pele produtoras de pigmentos que dão cor ao cabelo.', 'As pessoas geralmente começam a ficar grisalhas aos 30 anos e têm meia cabeça de cabelos grisalhos quando completam 50 anos.\\n', 'Acredita-se que o                       envelhecimento prematuro\\n, na adolescência, seja causado em grande parte pela genética.', 'Mas se o estresse pode deixar seu cabelo branco, ou não, é uma pauta que tem sido debatida pelos cientistas há anos.\\n', 'O autor sênior do último estudo, publicado na                       Nature\\n, disse que a maioria das pessoas tem uma história de como o estresse causou uma reação em seu corpo.', '“', 'Particularmente na pele e no cabelo – os únicos tecidos que podemos ver do lado de fora”, disse Ya-Chieh Hsu, professor de células-tronco e biologia regenerativa em Harvard.', '“Queríamos entender se essa conexão é verdadeira e, em caso afirmativo, como o estresse leva a alterações em diversos tecidos.', '”\\nComo o estresse age no seu organismo?\\n', 'Já foi demonstrado que os hormônios produzidos em resposta ao estresse podem esgotar as células-tronco que colorem os cabelos.', 'Mas os pesquisadores queriam determinar quais hormônios eles são – e de onde eles vêm.\\n', 'Os cientistas de Harvard aperfeiçoaram as informações que têm sobre o                       sistema nervoso simpático\\n, que é parcialmente responsável por essa resposta de “luta ou fuga” do corpo.', 'Ele orienta o corpo a responder a situações estressantes ou perigosas, aumentando a freqüência cardíaca e enviando sangue aos músculos, por exemplo.\\n', 'Nervos simpáticos se ramificam nas células da pele – incluindo folículos capilares – para coletar informações sobre o meio ambiente.', 'Um efeito colateral da resposta é que a alteração dos níveis hormonais pode deformar a função das células.\\n\\n', 'Leia mais:\\xa0Quero largar a tintura e assumir os cabelos brancos; o que fazer?\\n\\n', 'Os folículos capilares contêm certas células-tronco de melanócitos, que colorem a pele e o cabelo com um pigmento chamado melanina.', 'Os pesquisadores descobriram que o estresse provoca nervos simpáticos a liberarem a noradrenalina química no sangue.', 'A norepinefrina, um neurotransmissor produzido pelo cérebro em situações de estresse menores e crônicas, deixa o corpo mais alerta e pronto para combater o estresse.', 'Mas também faz com que as células-tronco dos folículos capilares se ativem excessivamente, segundo o estudo.\\n', 'As células-tronco passam por um processo chamado proliferação e diferenciação, onde se transformam em células especializadas.', 'Em outras palavras, seu papel muda e eles se afastam para outras partes do corpo, deixando os folículos capilares esgotados.\\n', 'A pesquisa\\n  \\n\\n\\n shutterstock \\n', 'O estresse tem um impacto negativo muito maior do que os próprios pesquisadores pensavam\\n\\n\\n\\n', 'Os ratos expostos ao estresse físico ou psicológico mostraram uma redução no número de células-tronco de melanócitos em poucos dias.', 'Os cabelos ficaram acinzentados a um ritmo mais rápido.', 'Nas 24 horas seguintes à injeção de noradrenalina, os camundongos haviam perdido cerca de 50% de suas células-tronco devido à proliferação.', 'Quando os cientistas bloquearam a proliferação de células-tronco, isso impediu a perda de células-tronco de melanócitos e cabelos grisalhos nos ratos.\\n', 'O Dr. Hsu disse: ‘', 'Quando começamos a estudar isso, eu esperava que o estresse fosse ruim para o corpo.', 'Mas o                       impacto negativo do estresse\\n que descobrimos estava além do que eu imaginava.', 'Após apenas alguns dias, todas as células-tronco regeneradoras de pigmentos foram perdidas.', 'Depois que eles se foram, você não pode mais regenerar o pigmento.', 'O dano é permanente.\\n', 'O estudo mostra que o envelhecimento é causado pela ativação do sistema nervoso simpático, ao contrário das teorias anteriores.\\n', 'Há muito se pensa que o estresse pode fazer com que o sistema imunológico ataque células-tronco que pigmentam os cabelos e a pele.', 'Ou que o hormônio cortisol, conhecido como “hormônio do estresse”, foi o principal culpado.', 'No entanto, os pesquisadores de Harvard refutaram essas duas teorias em seus próprios experimentos.\\n\\n', 'Leia mais:\\xa0', 'Cabelo branco nórdico é nova tendência para ousar além do platinado\\n\\n', 'O Dr. Hsu disse: ‘', 'O                       estresse\\n sempre eleva os níveis do hormônio cortisol no corpo, por isso pensamos que o cortisol poderia desempenhar um papel.', 'Mas, surpreendentemente, quando removemos a glândula adrenal dos ratos para que eles não pudessem produzir hormônios semelhantes ao cortisol, seus cabelos ainda ficavam grisalhos sob estresse”.\\n']\n",
            "Palavras sem stopwords: ['\\n\\n\\n\\n', 'pensava-se', 'daquelas', 'histórias', 'lenda', 'urbana', 'real', '                      ', 'estresse', '\\n ', 'deixar', 'cabelo', 'branco', 'grisalho', 'muda', 'cor', 'voltar', 'cientistas', '\\n\\n', 'Leia', '\\xa0', 'Guia', 'cabelos', 'brancos', '3', 'dicas', 'essenciais', 'cuidar', 'fios', 'grisalhos', '\\n\\n', 'estresse', 'deixar', 'cabelo', 'branco', '\\n  \\n\\n\\n ', 'shutterstock', '\\n', 'causa', 'cabelos', 'brancos', 'acordo', 'estudo', 'Universidade', 'Harvard', 'noradrenalina', 'liberada', 'pessoas', 'estressadas', '\\n\\n\\n\\n\\n\\n\\n', '                      ', 'Daily', 'Mail', '\\n', 'estudo', 'Universidade', 'Harvard', 'ratos', 'descobriu', 'culpado', 'fios', 'grisalhos', '                      ', 'noradrenalina', '\\n', 'hormônio', 'liberado', 'corpo', 'entra', 'modo', 'luta', 'fuga', 'imenso', 'estresse', 'noradrenalina', 'liberada', 'sanguínea', 'aumenta', 'freqüência', 'cardíaca', 'prepara', 'corpo', 'reagir', 'ameaça', '\\n', 'reação', 'danificar', 'células-tronco', 'melanócitos', 'CTMs', 'células', 'pele', 'produtoras', 'pigmentos', 'cor', 'cabelo', 'pessoas', 'geralmente', 'começam', 'ficar', 'grisalhas', '30', 'anos', 'meia', 'cabeça', 'cabelos', 'grisalhos', 'completam', '50', 'anos', '\\n', 'Acredita-se', '                      ', 'envelhecimento', 'prematuro', '\\n', 'adolescência', 'seja', 'causado', 'genética', 'estresse', 'deixar', 'cabelo', 'branco', 'pauta', 'sido', 'debatida', 'cientistas', 'há', 'anos', '\\n', 'autor', 'sênior', 'estudo', 'publicado', '                      ', 'Nature', '\\n', 'disse', 'pessoas', 'história', 'estresse', 'causou', 'reação', 'corpo', 'Particularmente', 'pele', 'cabelo', 'únicos', 'tecidos', 'podemos', 'disse', 'Ya-Chieh', 'Hsu', 'professor', 'células-tronco', 'biologia', 'regenerativa', 'Harvard', 'Queríamos', 'entender', 'conexão', 'verdadeira', 'caso', 'afirmativo', 'estresse', 'leva', 'alterações', 'diversos', 'tecidos', '\\n', 'estresse', 'age', 'organismo', '\\n', 'demonstrado', 'hormônios', 'produzidos', 'resposta', 'estresse', 'esgotar', 'células-tronco', 'colorem', 'cabelos', 'pesquisadores', 'queriam', 'determinar', 'hormônios', '\\n', 'cientistas', 'Harvard', 'aperfeiçoaram', 'informações', '                      ', 'nervoso', 'simpático', '\\n', 'parcialmente', 'responsável', 'resposta', 'luta', 'fuga', 'corpo', 'orienta', 'corpo', 'responder', 'situações', 'estressantes', 'perigosas', 'aumentando', 'freqüência', 'cardíaca', 'enviando', 'sangue', 'músculos', '\\n', 'Nervos', 'simpáticos', 'ramificam', 'células', 'pele', 'incluindo', 'folículos', 'capilares', 'coletar', 'informações', 'ambiente', 'efeito', 'colateral', 'resposta', 'alteração', 'níveis', 'hormonais', 'deformar', 'função', 'células', '\\n\\n', 'Leia', '\\xa0', 'largar', 'tintura', 'assumir', 'cabelos', 'brancos', '\\n\\n', 'folículos', 'capilares', 'contêm', 'certas', 'células-tronco', 'melanócitos', 'colorem', 'pele', 'cabelo', 'pigmento', 'chamado', 'melanina', 'pesquisadores', 'descobriram', 'estresse', 'provoca', 'nervos', 'simpáticos', 'liberarem', 'noradrenalina', 'química', 'sangue', 'norepinefrina', 'neurotransmissor', 'produzido', 'cérebro', 'situações', 'estresse', 'menores', 'crônicas', 'deixa', 'corpo', 'alerta', 'pronto', 'combater', 'estresse', 'células-tronco', 'folículos', 'capilares', 'ativem', 'excessivamente', 'estudo', '\\n', 'células-tronco', 'passam', 'processo', 'chamado', 'proliferação', 'diferenciação', 'transformam', 'células', 'especializadas', 'palavras', 'papel', 'muda', 'afastam', 'partes', 'corpo', 'deixando', 'folículos', 'capilares', 'esgotados', '\\n', 'pesquisa', '\\n  \\n\\n\\n ', 'shutterstock', '\\n', 'estresse', 'impacto', 'negativo', 'próprios', 'pesquisadores', 'pensavam', '\\n\\n\\n\\n', 'ratos', 'expostos', 'estresse', 'físico', 'psicológico', 'mostraram', 'redução', 'células-tronco', 'melanócitos', 'poucos', 'dias', 'cabelos', 'ficaram', 'acinzentados', 'ritmo', 'rápido', '24', 'horas', 'seguintes', 'injeção', 'noradrenalina', 'camundongos', 'haviam', 'perdido', 'cerca', '50', 'células-tronco', 'devido', 'proliferação', 'cientistas', 'bloquearam', 'proliferação', 'células-tronco', 'impediu', 'perda', 'células-tronco', 'melanócitos', 'cabelos', 'grisalhos', 'ratos', '\\n', 'Dr.', 'Hsu', 'disse', 'começamos', 'estudar', 'esperava', 'estresse', 'fosse', 'ruim', 'corpo', '                      ', 'impacto', 'negativo', 'estresse', '\\n ', 'descobrimos', 'imaginava', 'dias', 'células-tronco', 'regeneradoras', 'pigmentos', 'perdidas', 'regenerar', 'pigmento', 'dano', 'permanente', '\\n', 'estudo', 'mostra', 'envelhecimento', 'causado', 'ativação', 'nervoso', 'simpático', 'contrário', 'teorias', 'anteriores', '\\n', 'Há', 'pensa', 'estresse', 'imunológico', 'ataque', 'células-tronco', 'pigmentam', 'cabelos', 'pele', 'hormônio', 'cortisol', 'hormônio', 'estresse', 'principal', 'culpado', 'entanto', 'pesquisadores', 'Harvard', 'refutaram', 'teorias', 'próprios', 'experimentos', '\\n\\n', 'Leia', '\\xa0', 'Cabelo', 'branco', 'nórdico', 'tendência', 'ousar', 'platinado', '\\n\\n', 'Dr.', 'Hsu', 'disse', '                      ', 'estresse', '\\n ', 'eleva', 'níveis', 'hormônio', 'cortisol', 'corpo', 'pensamos', 'cortisol', 'poderia', 'desempenhar', 'papel', 'surpreendentemente', 'removemos', 'glândula', 'adrenal', 'ratos', 'pudessem', 'produzir', 'hormônios', 'semelhantes', 'cortisol', 'cabelos', 'ficavam', 'grisalhos', 'estresse', '\\n']\n",
            "[('\\n', 20), ('estresse', 19), ('células-tronco', 12), ('cabelos', 9), ('corpo', 9), ('                      ', 8), ('cabelo', 6), ('\\n\\n', 6), ('grisalhos', 5), ('estudo', 5)]\n",
            "\n",
            "Resumo:\n",
            "Segundo o                       Daily Mail\n",
            ", um estudo da Universidade de Harvard em ratos descobriu que o culpado dos fios grisalhos era a                       noradrenalina\n",
            ", um hormônio liberado quando o corpo entra no modo de “luta ou fuga”.\n",
            "O autor sênior do último estudo, publicado na                       Nature\n",
            ", disse que a maioria das pessoas tem uma história de como o estresse causou uma reação em seu corpo.\n",
            "Quando os cientistas bloquearam a proliferação de células-tronco, isso impediu a perda de células-tronco de melanócitos e cabelos grisalhos nos ratos.\n",
            "\n"
          ]
        }
      ]
    },
    {
      "cell_type": "markdown",
      "source": [],
      "metadata": {
        "id": "cMqsUHbDoh3J"
      }
    }
  ]
}